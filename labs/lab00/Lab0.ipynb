{
 "cells": [
  {
   "cell_type": "markdown",
   "id": "cd2a8b40-81ef-44e7-9bf4-5cb978c18adc",
   "metadata": {},
   "source": [
    "# Lab 0: Text classification exploration\n",
    "### COSC 426: Fall 2025, Colgate University\n",
    "\n",
    "I am not expecting you to come in knowing how to use this notebook. So don't worry or panic if you've never worked with jupyter notebooks before! However, since this is a 400-level class that is designed to encourage independent work, I expect you to look up things you don't understand or know how to do. Don't hesitate to reach out if you are stuck!"
   ]
  },
  {
   "cell_type": "markdown",
   "id": "7def60da-b634-4f0d-86bc-238f5bd1a274",
   "metadata": {},
   "source": [
    "## Basic demonstration\n",
    "\n",
    "This section demonstrates how to load data and access columns in dataframes"
   ]
  },
  {
   "cell_type": "code",
   "execution_count": 3,
   "id": "d9c6c915-06b7-4437-b8e5-6ca2fe7d90cb",
   "metadata": {},
   "outputs": [],
   "source": [
    "# Import relevant packages\n",
    "import pandas as pd\n",
    "import numpy as np\n",
    "import seaborn as sns\n",
    "import matplotlib.pyplot as plt"
   ]
  },
  {
   "cell_type": "code",
   "execution_count": 4,
   "id": "02fb07e9-d473-4b4d-b371-517e8eab2f17",
   "metadata": {},
   "outputs": [
    {
     "name": "stdout",
     "output_type": "stream",
     "text": [
      "Index(['text ', ' gold ', ' predicted ', ' correct'], dtype='object')\n"
     ]
    },
    {
     "data": {
      "text/html": [
       "<div>\n",
       "<style scoped>\n",
       "    .dataframe tbody tr th:only-of-type {\n",
       "        vertical-align: middle;\n",
       "    }\n",
       "\n",
       "    .dataframe tbody tr th {\n",
       "        vertical-align: top;\n",
       "    }\n",
       "\n",
       "    .dataframe thead th {\n",
       "        text-align: right;\n",
       "    }\n",
       "</style>\n",
       "<table border=\"1\" class=\"dataframe\">\n",
       "  <thead>\n",
       "    <tr style=\"text-align: right;\">\n",
       "      <th></th>\n",
       "      <th>text</th>\n",
       "      <th>gold</th>\n",
       "      <th>predicted</th>\n",
       "      <th>correct</th>\n",
       "    </tr>\n",
       "  </thead>\n",
       "  <tbody>\n",
       "    <tr>\n",
       "      <th>0</th>\n",
       "      <td>God save the most judgmental creeps</td>\n",
       "      <td>swift</td>\n",
       "      <td>shakespeare</td>\n",
       "      <td>0</td>\n",
       "    </tr>\n",
       "    <tr>\n",
       "      <th>1</th>\n",
       "      <td>Who say they want what's best for me</td>\n",
       "      <td>swift</td>\n",
       "      <td>swift</td>\n",
       "      <td>1</td>\n",
       "    </tr>\n",
       "    <tr>\n",
       "      <th>2</th>\n",
       "      <td>Sanctimoniously performing soliloquies I'll ne...</td>\n",
       "      <td>swift</td>\n",
       "      <td>swift</td>\n",
       "      <td>1</td>\n",
       "    </tr>\n",
       "    <tr>\n",
       "      <th>3</th>\n",
       "      <td>Thinkin' it can change the beat</td>\n",
       "      <td>swift</td>\n",
       "      <td>swift</td>\n",
       "      <td>1</td>\n",
       "    </tr>\n",
       "    <tr>\n",
       "      <th>4</th>\n",
       "      <td>Of my heart when he touches me</td>\n",
       "      <td>swift</td>\n",
       "      <td>shakespeare</td>\n",
       "      <td>0</td>\n",
       "    </tr>\n",
       "  </tbody>\n",
       "</table>\n",
       "</div>"
      ],
      "text/plain": [
       "                                               text     gold      predicted   \\\n",
       "0               God save the most judgmental creeps    swift    shakespeare    \n",
       "1              Who say they want what's best for me    swift          swift    \n",
       "2  Sanctimoniously performing soliloquies I'll ne...   swift          swift    \n",
       "3                   Thinkin' it can change the beat    swift          swift    \n",
       "4                    Of my heart when he touches me    swift    shakespeare    \n",
       "\n",
       "    correct  \n",
       "0         0  \n",
       "1         1  \n",
       "2         1  \n",
       "3         1  \n",
       "4         0  "
      ]
     },
     "execution_count": 4,
     "metadata": {},
     "output_type": "execute_result"
    }
   ],
   "source": [
    "toy_preds = pd.read_csv('predictions_toy_gold.txt', sep = '\\t') ## loads in data\n",
    "\n",
    "print(toy_preds.columns) # prints columns\n",
    "\n",
    "toy_preds.head() ## prints the first 5 rows of the dataframe. Note you don't have to print the last thing in a cell to display it.  "
   ]
  },
  {
   "cell_type": "code",
   "execution_count": 7,
   "id": "74ba018f-8f6c-493a-b714-286046cf5a99",
   "metadata": {},
   "outputs": [
    {
     "data": {
      "text/plain": [
       "12"
      ]
     },
     "execution_count": 7,
     "metadata": {},
     "output_type": "execute_result"
    }
   ],
   "source": [
    "toy_preds[' correct'].sum() ## prints the sum of the column \"correct\"\n",
    "# Dan's Note: Had to put a space before 'correct' otherwise it caused an error."
   ]
  },
  {
   "cell_type": "markdown",
   "id": "9e37a97a-446e-4f8b-9abb-c58c69602b05",
   "metadata": {},
   "source": [
    "## Evaluate model predictions\n",
    "\n",
    "In this part, you will evaluate the model predictions from your `predictions.txt`. Concretely, answer the following questions: \n",
    "\n",
    "1. What is the average accuracy of the model?\n",
    "2. If you consider the artists separately, what is the average accuracy for Shakespeare and the average accuracy for Swift?\n",
    "\n",
    "You can print these numbers (like the sum was printed in the previous cell), or as a bonus, you can look into how you can plot this! \n",
    "\n",
    "Hint: If you choose to plot this, `groupby` and `agg` in pandas will be useful!\n",
    "\n",
    "**Feel free to add as many code and markdown chunks as you would like**"
   ]
  },
  {
   "cell_type": "code",
   "execution_count": null,
   "id": "fa07b3bc-b95e-49b6-9c8e-4f4e5a3798a2",
   "metadata": {},
   "outputs": [],
   "source": []
  }
 ],
 "metadata": {
  "kernelspec": {
   "display_name": "nlp",
   "language": "python",
   "name": "python3"
  },
  "language_info": {
   "codemirror_mode": {
    "name": "ipython",
    "version": 3
   },
   "file_extension": ".py",
   "mimetype": "text/x-python",
   "name": "python",
   "nbconvert_exporter": "python",
   "pygments_lexer": "ipython3",
   "version": "3.10.18"
  }
 },
 "nbformat": 4,
 "nbformat_minor": 5
}
