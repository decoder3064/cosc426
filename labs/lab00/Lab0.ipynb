{
 "cells": [
  {
   "cell_type": "markdown",
   "id": "cd2a8b40-81ef-44e7-9bf4-5cb978c18adc",
   "metadata": {},
   "source": [
    "# Lab 0: Text classification exploration\n",
    "### COSC 426: Fall 2025, Colgate University\n",
    "\n",
    "I am not expecting you to come in knowing how to use this notebook. So don't worry or panic if you've never worked with jupyter notebooks before! However, since this is a 400-level class that is designed to encourage independent work, I expect you to look up things you don't understand or know how to do. Don't hesitate to reach out if you are stuck!"
   ]
  },
  {
   "cell_type": "markdown",
   "id": "7def60da-b634-4f0d-86bc-238f5bd1a274",
   "metadata": {},
   "source": [
    "## Basic demonstration\n",
    "\n",
    "This section demonstrates how to load data and access columns in dataframes"
   ]
  },
  {
   "cell_type": "markdown",
   "id": "9e37a97a-446e-4f8b-9abb-c58c69602b05",
   "metadata": {},
   "source": [
    "## Evaluate model predictions\n",
    "\n",
    "In this part, you will evaluate the model predictions from your `predictions.txt`. Concretely, answer the following questions: \n",
    "\n",
    "1. What is the average accuracy of the model?\n",
    "2. If you consider the artists separately, what is the average accuracy for Shakespeare and the average accuracy for Swift?\n",
    "\n",
    "You can print these numbers (like the sum was printed in the previous cell), or as a bonus, you can look into how you can plot this! \n",
    "\n",
    "Hint: If you choose to plot this, `groupby` and `agg` in pandas will be useful!\n",
    "\n",
    "**Feel free to add as many code and markdown chunks as you would like**"
   ]
  },
  {
   "cell_type": "code",
   "execution_count": 64,
   "id": "90880b2d",
   "metadata": {},
   "outputs": [],
   "source": [
    "import pandas as pd\n",
    "# import numpy as np\n",
    "# import seaborn as sns\n",
    "# import matplotlib.pyplot as plt"
   ]
  },
  {
   "cell_type": "code",
   "execution_count": 65,
   "id": "fa07b3bc-b95e-49b6-9c8e-4f4e5a3798a2",
   "metadata": {},
   "outputs": [
    {
     "data": {
      "text/plain": [
       "Index(['text', 'gold', 'predicted', 'correct'], dtype='object')"
      ]
     },
     "execution_count": 65,
     "metadata": {},
     "output_type": "execute_result"
    }
   ],
   "source": [
    "preds = pd.read_csv('predictions.txt', sep = '\\t')\n",
    "preds.columns"
   ]
  },
  {
   "cell_type": "code",
   "execution_count": 66,
   "id": "f0c90cb3",
   "metadata": {},
   "outputs": [
    {
     "data": {
      "text/html": [
       "<div>\n",
       "<style scoped>\n",
       "    .dataframe tbody tr th:only-of-type {\n",
       "        vertical-align: middle;\n",
       "    }\n",
       "\n",
       "    .dataframe tbody tr th {\n",
       "        vertical-align: top;\n",
       "    }\n",
       "\n",
       "    .dataframe thead th {\n",
       "        text-align: right;\n",
       "    }\n",
       "</style>\n",
       "<table border=\"1\" class=\"dataframe\">\n",
       "  <thead>\n",
       "    <tr style=\"text-align: right;\">\n",
       "      <th></th>\n",
       "      <th>text</th>\n",
       "      <th>gold</th>\n",
       "      <th>predicted</th>\n",
       "      <th>correct</th>\n",
       "    </tr>\n",
       "  </thead>\n",
       "  <tbody>\n",
       "    <tr>\n",
       "      <th>0</th>\n",
       "      <td>Did you really beam me up</td>\n",
       "      <td>swift</td>\n",
       "      <td>swift</td>\n",
       "      <td>1</td>\n",
       "    </tr>\n",
       "    <tr>\n",
       "      <th>1</th>\n",
       "      <td>In a cloud of sparkling dust</td>\n",
       "      <td>swift</td>\n",
       "      <td>shakespeare</td>\n",
       "      <td>0</td>\n",
       "    </tr>\n",
       "    <tr>\n",
       "      <th>2</th>\n",
       "      <td>Just to do experiments on?</td>\n",
       "      <td>swift</td>\n",
       "      <td>swift</td>\n",
       "      <td>1</td>\n",
       "    </tr>\n",
       "    <tr>\n",
       "      <th>3</th>\n",
       "      <td>Tell me I was the chosen one</td>\n",
       "      <td>swift</td>\n",
       "      <td>swift</td>\n",
       "      <td>1</td>\n",
       "    </tr>\n",
       "    <tr>\n",
       "      <th>4</th>\n",
       "      <td>Showed me that this world is bigger than us</td>\n",
       "      <td>swift</td>\n",
       "      <td>shakespeare</td>\n",
       "      <td>0</td>\n",
       "    </tr>\n",
       "  </tbody>\n",
       "</table>\n",
       "</div>"
      ],
      "text/plain": [
       "                                          text   gold    predicted  correct\n",
       "0                    Did you really beam me up  swift        swift        1\n",
       "1                 In a cloud of sparkling dust  swift  shakespeare        0\n",
       "2                   Just to do experiments on?  swift        swift        1\n",
       "3                 Tell me I was the chosen one  swift        swift        1\n",
       "4  Showed me that this world is bigger than us  swift  shakespeare        0"
      ]
     },
     "execution_count": 66,
     "metadata": {},
     "output_type": "execute_result"
    }
   ],
   "source": [
    "preds.head()"
   ]
  },
  {
   "cell_type": "code",
   "execution_count": 67,
   "id": "9ace2680",
   "metadata": {},
   "outputs": [
    {
     "name": "stdout",
     "output_type": "stream",
     "text": [
      "1. Average Accuracy: 83.99%\n"
     ]
    }
   ],
   "source": [
    "average_accuracy = preds['correct'].mean()\n",
    "print(f'1. Average Accuracy: {average_accuracy:.2%}')"
   ]
  },
  {
   "cell_type": "code",
   "execution_count": 68,
   "id": "2ed9245c",
   "metadata": {},
   "outputs": [
    {
     "name": "stdout",
     "output_type": "stream",
     "text": [
      "2. Average Accuracy by artist:\n",
      "gold\n",
      "shakespeare   82.90%\n",
      "swift         88.08%\n"
     ]
    }
   ],
   "source": [
    "accuracy_by_artist = preds.groupby('gold')['correct'].mean()\n",
    "print('2. Average Accuracy by artist:')\n",
    "print(accuracy_by_artist.to_string(float_format='{:.2%}'.format))"
   ]
  },
  {
   "cell_type": "code",
   "execution_count": 69,
   "id": "77ce399d",
   "metadata": {},
   "outputs": [
    {
     "data": {
      "text/plain": [
       "<Axes: title={'center': 'Average Accuracy by artist'}, xlabel='Artist'>"
      ]
     },
     "execution_count": 69,
     "metadata": {},
     "output_type": "execute_result"
    },
    {
     "data": {
      "image/png": "[encoded data removed]",
      "text/plain": [
       "<Figure size 640x480 with 1 Axes>"
      ]
     },
     "metadata": {},
     "output_type": "display_data"
    }
   ],
   "source": [
    "accuracy_by_artist.plot(kind='bar', xlabel='Artist', title=\"Average Accuracy by artist\")"
   ]
  },
  {
   "cell_type": "code",
   "execution_count": null,
   "id": "38eb71e4",
   "metadata": {},
   "outputs": [],
   "source": []
  }
 ],
 "metadata": {
  "kernelspec": {
   "display_name": "nlp",
   "language": "python",
   "name": "python3"
  },
  "language_info": {
   "codemirror_mode": {
    "name": "ipython",
    "version": 3
   },
   "file_extension": ".py",
   "mimetype": "text/x-python",
   "name": "python",
   "nbconvert_exporter": "python",
   "pygments_lexer": "ipython3",
   "version": "3.10.18"
  }
 },
 "nbformat": 4,
 "nbformat_minor": 5
}
