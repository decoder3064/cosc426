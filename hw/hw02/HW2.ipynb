{
 "cells": [
  {
   "cell_type": "markdown",
   "id": "94ee5842-c203-41f1-94d0-32d2c5028428",
   "metadata": {},
   "source": [
    "## HW 2: Yoda-speak \n",
    "### COSC 426: Fall 2025, Colgate University\n",
    "\n",
    "Use this notebook to test your grammar, load in the results from your experiment, display them, and answer the question(s). Feel free to add as many code and markdown chunks as you would like in each of the sub-sections. \n",
    "\n",
    "**If you use any external resources (e.g., code snippets, reference articles), please cite them in comments or text!**"
   ]
  },
  {
   "cell_type": "markdown",
   "id": "1ce518bf-db21-4bd6-8c98-3f7e375b2663",
   "metadata": {},
   "source": [
    "## Part 1: Writing the grammar for `yoda-speak`\n",
    "\n",
    "#### Testing sentences without Prepositional Phrases\n",
    "\n",
    "Use the following code chunk to verify that your grammar correctly parses the sentences without prepositional phrases. Make sure that: \n",
    "\n",
    "1. If an NP is SubjNP in SAE, it is also SubjNP in `yoda-speak`\n",
    "2. If an NP is ObjNP in SAE, it is also ObjNP in `yoda-speak`"
   ]
  },
  {
   "cell_type": "code",
   "execution_count": null,
   "id": "7f368ff2-bba1-4179-a1c1-6b9fd6b25399",
   "metadata": {},
   "outputs": [],
   "source": [
    "import HW2\n",
    "\n",
    "sents = [{'sae': 'you seek the Force', 'yoda': 'the Force you seek'},\n",
    "         {'sae': 'the Jedi follow the path', 'yoda': 'the path the Jedi follow'},\n",
    "         {'sae': 'I teach you', 'yoda': 'you I teach'},\n",
    "         {'sae': 'the Jedi fight', 'yoda': 'fight the Jedi do'},\n",
    "         {'sae': 'you sleep', 'yoda': 'sleep you do'}\n",
    "        ]\n",
    "\n",
    "for sent in sents: \n",
    "    print('=='*50)\n",
    "    print('SAE')\n",
    "    HW2.print_parses(sent['sae'], 'hw2_grammar_sae.txt',)\n",
    "    print('--'*30)\n",
    "    print('YODA')\n",
    "    HW2.print_parses(sent['yoda'], 'hw2_grammar_yoda.txt')"
   ]
  },
  {
   "cell_type": "markdown",
   "id": "eeaf91bf-9d54-40d0-9b20-160c42b0a5d8",
   "metadata": {},
   "source": [
    "#### Testing sentences with Prepositional Phrases\n",
    "\n",
    "Use the following code chunk to verify that your grammar correctly parses the sentences with prepositional phrases. Make sure that: \n",
    "\n",
    "1. If an NP is SubjNP in SAE, it is also SubjNP in `yoda-speak`\n",
    "2. If an NP is ObjNP in SAE, it is also ObjNP in `yoda-speak`\n",
    "3. If a PP is the sister of the verb in SAE, it is also the sister of the verb in `yoda-speak`"
   ]
  },
  {
   "cell_type": "code",
   "execution_count": null,
   "id": "8a5ef6d4-5097-4389-b6e0-c2aeebaf74aa",
   "metadata": {},
   "outputs": [],
   "source": [
    "sents = [{'sae': 'the Jedi fight in the night', 'yoda': 'in the night fight the Jedi do'},\n",
    "         {'sae': 'the Jedi fight in the night in the rain', 'yoda': 'in the night in the rain fight the Jedi do'},\n",
    "         {'sae': 'the Jedi fight in the night in the rain', 'yoda': 'in the rain in the night fight the Jedi do'},\n",
    "         {'sae': 'the darkness in the night teach the Jedi', 'yoda': 'the Jedi the darkness in the night teach'},\n",
    "         {'sae': 'the Jedi seek the Force through the darkness', 'yoda': 'the Force through the darkness the Jedi seek'}\n",
    "        ]\n",
    "\n",
    "for sent in sents: \n",
    "    print('=='*50)\n",
    "    print('SAE')\n",
    "    HW2.print_parses(sent['sae'], 'hw2_grammar_sae.txt',)\n",
    "    print('--'*30)\n",
    "    print('YODA')\n",
    "    HW2.print_parses(sent['yoda'], 'hw2_grammar_yoda.txt')\n",
    "    "
   ]
  },
  {
   "cell_type": "markdown",
   "id": "5e58c981-d86c-4b6f-946a-53330640f6ae",
   "metadata": {},
   "source": [
    "## Part 2: Evaluate whether `distilgpt` treats sentences from `yoda-speak` as being grammatical\n",
    "\n",
    "In this section, include: \n",
    "\n",
    "* Code to create the evaluation data file (and a discussion if you choose to include additional sentences)\n",
    "* The results from your experiment. This can be in the format of a dataframe with just the required rows, or as a plot.\n",
    "* Discussion of the results"
   ]
  },
  {
   "cell_type": "markdown",
   "id": "ff9b5a43-aaa5-429e-b0be-db8ae9829c73",
   "metadata": {},
   "source": [
    "## Part 3: Finetune `distilgpt` on `yoda-speak` and evaluate it\n",
    "\n",
    "In this section, include: \n",
    "\n",
    "* Code to create the finetuning data file. \n",
    "* The results from your experiment. This can be in the format of a dataframe with just the required rows, or as a plot.\n",
    "* Discussion of the results"
   ]
  },
  {
   "cell_type": "markdown",
   "id": "645d9624-aedd-4f5a-a63a-80533245e3c5",
   "metadata": {},
   "source": [
    "## Part 4 (Optional): Train  `distilgpt` on `yoda-speak` from scratch and evaluate it.\n",
    "In this section, include: \n",
    "\n",
    "* Code to create the training data file.\n",
    "* The results from your experiment. This can be in the format of a dataframe with just the required rows, or as a plot.\n",
    "* Discussion of the results and the difference between training and finetuning"
   ]
  },
  {
   "cell_type": "code",
   "execution_count": null,
   "id": "c4fcf59b-9b0a-4598-9c18-a8d7fe54e626",
   "metadata": {},
   "outputs": [],
   "source": []
  }
 ],
 "metadata": {
  "kernelspec": {
   "display_name": "cosc410",
   "language": "python",
   "name": "cosc410"
  },
  "language_info": {
   "codemirror_mode": {
    "name": "ipython",
    "version": 3
   },
   "file_extension": ".py",
   "mimetype": "text/x-python",
   "name": "python",
   "nbconvert_exporter": "python",
   "pygments_lexer": "ipython3",
   "version": "3.10.16"
  }
 },
 "nbformat": 4,
 "nbformat_minor": 5
}
